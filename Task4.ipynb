{
 "cells": [
  {
   "cell_type": "code",
   "execution_count": 19,
   "id": "1b5880c1",
   "metadata": {},
   "outputs": [],
   "source": [
    "import pandas as pd\n",
    "import numpy as np\n",
    "import re\n",
    "from keras.models import Sequential\n",
    "from keras.layers import Embedding, Conv1D, MaxPooling1D, Flatten, Dense,LSTM\n",
    "from keras.preprocessing.text import Tokenizer\n",
    "from tensorflow.keras.preprocessing.sequence import pad_sequences\n",
    "from sklearn.model_selection import train_test_split\n",
    "from textblob import TextBlob\n",
    "from sklearn.metrics import classification_report\n"
   ]
  },
  {
   "cell_type": "code",
   "execution_count": 14,
   "id": "5c189ce4",
   "metadata": {},
   "outputs": [
    {
     "data": {
      "text/html": [
       "<div>\n",
       "<style scoped>\n",
       "    .dataframe tbody tr th:only-of-type {\n",
       "        vertical-align: middle;\n",
       "    }\n",
       "\n",
       "    .dataframe tbody tr th {\n",
       "        vertical-align: top;\n",
       "    }\n",
       "\n",
       "    .dataframe thead th {\n",
       "        text-align: right;\n",
       "    }\n",
       "</style>\n",
       "<table border=\"1\" class=\"dataframe\">\n",
       "  <thead>\n",
       "    <tr style=\"text-align: right;\">\n",
       "      <th></th>\n",
       "      <th>Tweet</th>\n",
       "    </tr>\n",
       "  </thead>\n",
       "  <tbody>\n",
       "    <tr>\n",
       "      <th>0</th>\n",
       "      <td>Frequent underground bombings in my city. I wa...</td>\n",
       "    </tr>\n",
       "    <tr>\n",
       "      <th>1</th>\n",
       "      <td>@kharge Respected leader of opposition the ele...</td>\n",
       "    </tr>\n",
       "    <tr>\n",
       "      <th>2</th>\n",
       "      <td>Mr. @mkstalin Today SC slapped you hard on you...</td>\n",
       "    </tr>\n",
       "    <tr>\n",
       "      <th>3</th>\n",
       "      <td>The meeting was attended by ACS, MAWS; Pr. Sec...</td>\n",
       "    </tr>\n",
       "    <tr>\n",
       "      <th>4</th>\n",
       "      <td>@amarprasadreddy @mkstalin Time Has Come Once ...</td>\n",
       "    </tr>\n",
       "    <tr>\n",
       "      <th>...</th>\n",
       "      <td>...</td>\n",
       "    </tr>\n",
       "    <tr>\n",
       "      <th>74995</th>\n",
       "      <td>@V_Senthilbalaji @mkstalin When will you start...</td>\n",
       "    </tr>\n",
       "    <tr>\n",
       "      <th>74996</th>\n",
       "      <td>@tejashwini_v__ @LSEnews @PMOIndia @HCI_London...</td>\n",
       "    </tr>\n",
       "    <tr>\n",
       "      <th>74997</th>\n",
       "      <td>@Profdilipmandal @mkstalin @PWilsonDMK Why do ...</td>\n",
       "    </tr>\n",
       "    <tr>\n",
       "      <th>74998</th>\n",
       "      <td>Tamil Nadu Government should take steps to set...</td>\n",
       "    </tr>\n",
       "    <tr>\n",
       "      <th>74999</th>\n",
       "      <td>@derekobrienmp @mkstalin @AITCofficial @bjd_od...</td>\n",
       "    </tr>\n",
       "  </tbody>\n",
       "</table>\n",
       "<p>75000 rows × 1 columns</p>\n",
       "</div>"
      ],
      "text/plain": [
       "                                                   Tweet\n",
       "0      Frequent underground bombings in my city. I wa...\n",
       "1      @kharge Respected leader of opposition the ele...\n",
       "2      Mr. @mkstalin Today SC slapped you hard on you...\n",
       "3      The meeting was attended by ACS, MAWS; Pr. Sec...\n",
       "4      @amarprasadreddy @mkstalin Time Has Come Once ...\n",
       "...                                                  ...\n",
       "74995  @V_Senthilbalaji @mkstalin When will you start...\n",
       "74996  @tejashwini_v__ @LSEnews @PMOIndia @HCI_London...\n",
       "74997  @Profdilipmandal @mkstalin @PWilsonDMK Why do ...\n",
       "74998  Tamil Nadu Government should take steps to set...\n",
       "74999  @derekobrienmp @mkstalin @AITCofficial @bjd_od...\n",
       "\n",
       "[75000 rows x 1 columns]"
      ]
     },
     "execution_count": 14,
     "metadata": {},
     "output_type": "execute_result"
    }
   ],
   "source": [
    "df=pd.read_csv(\"C:\\\\Users\\\\krish\\Videos\\\\MK_Stalin.csv\")\n",
    "df"
   ]
  },
  {
   "cell_type": "code",
   "execution_count": 20,
   "id": "41e5a57c",
   "metadata": {},
   "outputs": [],
   "source": [
    "def clean_tweet(tweet):\n",
    "    tweet = re.sub(r'http\\S+|www\\S+|https\\S+', '', tweet, flags=re.MULTILINE)\n",
    "    tweet = re.sub(r'\\@\\w+|\\#', '', tweet)\n",
    "    tweet = re.sub(r'[^\\w\\s]', '', tweet)\n",
    "    tweet = re.sub(r'\\d+', '', tweet)\n",
    "    return tweet\n",
    "\n",
    "df['Cleaned_Tweet'] = df['Tweet'].apply(clean_tweet)"
   ]
  },
  {
   "cell_type": "code",
   "execution_count": 21,
   "id": "a59a724c",
   "metadata": {},
   "outputs": [],
   "source": [
    "from textblob import TextBlob\n",
    "\n",
    "def get_sentiment(tweet):\n",
    "    analysis = TextBlob(tweet)\n",
    "    return analysis.sentiment.polarity\n",
    "\n",
    "df['Sentiment_Score'] = df['Cleaned_Tweet'].apply(get_sentiment)\n",
    "df['Sentiment'] = df['Sentiment_Score'].apply(lambda x: 'Positive' if x > 0 else ('Negative' if x < 0 else 'Neutral'))"
   ]
  },
  {
   "cell_type": "code",
   "execution_count": 22,
   "id": "d34af31d",
   "metadata": {},
   "outputs": [
    {
     "data": {
      "image/png": "[encoded data removed]",
      "text/plain": [
       "<Figure size 640x480 with 1 Axes>"
      ]
     },
     "metadata": {},
     "output_type": "display_data"
    }
   ],
   "source": [
    "import matplotlib.pyplot as plt\n",
    "\n",
    "sentiment_counts = df['Sentiment'].value_counts()\n",
    "sentiment_counts.plot(kind='bar', color=['green', 'red', 'blue'])\n",
    "plt.xlabel('Sentiment')\n",
    "plt.ylabel('Number of Tweets')\n",
    "plt.title('Sentiment Distribution in Tweets')\n",
    "plt.show()"
   ]
  },
  {
   "cell_type": "code",
   "execution_count": 17,
   "id": "65424b63",
   "metadata": {},
   "outputs": [
    {
     "data": {
      "text/html": [
       "<div>\n",
       "<style scoped>\n",
       "    .dataframe tbody tr th:only-of-type {\n",
       "        vertical-align: middle;\n",
       "    }\n",
       "\n",
       "    .dataframe tbody tr th {\n",
       "        vertical-align: top;\n",
       "    }\n",
       "\n",
       "    .dataframe thead th {\n",
       "        text-align: right;\n",
       "    }\n",
       "</style>\n",
       "<table border=\"1\" class=\"dataframe\">\n",
       "  <thead>\n",
       "    <tr style=\"text-align: right;\">\n",
       "      <th></th>\n",
       "      <th>Tweet</th>\n",
       "    </tr>\n",
       "  </thead>\n",
       "  <tbody>\n",
       "    <tr>\n",
       "      <th>count</th>\n",
       "      <td>75000</td>\n",
       "    </tr>\n",
       "    <tr>\n",
       "      <th>unique</th>\n",
       "      <td>9878</td>\n",
       "    </tr>\n",
       "    <tr>\n",
       "      <th>top</th>\n",
       "      <td>@RRajakannappan @mkstalin @Udhaystalin @arival...</td>\n",
       "    </tr>\n",
       "    <tr>\n",
       "      <th>freq</th>\n",
       "      <td>84</td>\n",
       "    </tr>\n",
       "  </tbody>\n",
       "</table>\n",
       "</div>"
      ],
      "text/plain": [
       "                                                    Tweet\n",
       "count                                               75000\n",
       "unique                                               9878\n",
       "top     @RRajakannappan @mkstalin @Udhaystalin @arival...\n",
       "freq                                                   84"
      ]
     },
     "execution_count": 17,
     "metadata": {},
     "output_type": "execute_result"
    }
   ],
   "source": [
    "df.describe()"
   ]
  },
  {
   "cell_type": "code",
   "execution_count": 4,
   "id": "5abd0f07",
   "metadata": {},
   "outputs": [
    {
     "name": "stdout",
     "output_type": "stream",
     "text": [
      "<class 'pandas.core.frame.DataFrame'>\n",
      "RangeIndex: 75000 entries, 0 to 74999\n",
      "Data columns (total 1 columns):\n",
      " #   Column  Non-Null Count  Dtype \n",
      "---  ------  --------------  ----- \n",
      " 0   Tweet   75000 non-null  object\n",
      "dtypes: object(1)\n",
      "memory usage: 586.1+ KB\n"
     ]
    }
   ],
   "source": [
    "df.info()"
   ]
  },
  {
   "cell_type": "code",
   "execution_count": 16,
   "id": "3df993fa",
   "metadata": {},
   "outputs": [],
   "source": [
    "Tweet=df['Tweet']"
   ]
  },
  {
   "cell_type": "code",
   "execution_count": 6,
   "id": "74c839a3",
   "metadata": {},
   "outputs": [],
   "source": [
    "labeled_tweets=[]\n",
    "labels=[]\n",
    "for tweet in Tweet:\n",
    "    blob = TextBlob(tweet)\n",
    "    sentiment = blob.sentiment.polarity  # Sentiment polarity ranges from -1 to 1\n",
    "    labeled_tweets.append(tweet)\n",
    "    labels.append(1 if sentiment >= 0 else 0)  # Assign label 1 for positive sentiment, 0 for negative sentiment"
   ]
  },
  {
   "cell_type": "code",
   "execution_count": 7,
   "id": "f7a33e5c",
   "metadata": {},
   "outputs": [],
   "source": [
    "# Step 3: Feature Extraction\n",
    "tokenizer = Tokenizer()\n",
    "tokenizer.fit_on_texts(labeled_tweets)\n",
    "sequences = tokenizer.texts_to_sequences(labeled_tweets)\n",
    "word_index = tokenizer.word_index\n",
    "max_length = max(len(seq) for seq in sequences)\n",
    "data = pad_sequences(sequences, maxlen=max_length)"
   ]
  },
  {
   "cell_type": "code",
   "execution_count": 8,
   "id": "1a0c3f52",
   "metadata": {},
   "outputs": [],
   "source": [
    "# Step 4: Split the Data\n",
    "x_train, x_test, y_train, y_test = train_test_split(data, labels, test_size=0.2, random_state=42)"
   ]
  },
  {
   "cell_type": "code",
   "execution_count": 9,
   "id": "60abd529",
   "metadata": {},
   "outputs": [
    {
     "name": "stdout",
     "output_type": "stream",
     "text": [
      "Epoch 1/10\n",
      "469/469 [==============================] - 36s 75ms/step - loss: 0.1631 - accuracy: 0.9390 - val_loss: 0.0086 - val_accuracy: 0.9981\n",
      "Epoch 2/10\n",
      "469/469 [==============================] - 35s 75ms/step - loss: 0.0023 - accuracy: 0.9997 - val_loss: 6.6820e-04 - val_accuracy: 1.0000\n",
      "Epoch 3/10\n",
      "469/469 [==============================] - 35s 74ms/step - loss: 3.0613e-04 - accuracy: 1.0000 - val_loss: 1.8628e-04 - val_accuracy: 1.0000\n",
      "Epoch 4/10\n",
      "469/469 [==============================] - 38s 81ms/step - loss: 1.1790e-04 - accuracy: 1.0000 - val_loss: 9.0333e-05 - val_accuracy: 1.0000\n",
      "Epoch 5/10\n",
      "469/469 [==============================] - 33s 71ms/step - loss: 6.1686e-05 - accuracy: 1.0000 - val_loss: 5.2319e-05 - val_accuracy: 1.0000\n",
      "Epoch 6/10\n",
      "469/469 [==============================] - 33s 70ms/step - loss: 3.6847e-05 - accuracy: 1.0000 - val_loss: 3.3046e-05 - val_accuracy: 1.0000\n",
      "Epoch 7/10\n",
      "469/469 [==============================] - 34s 72ms/step - loss: 2.3670e-05 - accuracy: 1.0000 - val_loss: 2.2068e-05 - val_accuracy: 1.0000\n",
      "Epoch 8/10\n",
      "469/469 [==============================] - 35s 74ms/step - loss: 1.5957e-05 - accuracy: 1.0000 - val_loss: 1.5040e-05 - val_accuracy: 1.0000\n",
      "Epoch 9/10\n",
      "469/469 [==============================] - 33s 71ms/step - loss: 1.1091e-05 - accuracy: 1.0000 - val_loss: 1.0600e-05 - val_accuracy: 1.0000\n",
      "Epoch 10/10\n",
      "469/469 [==============================] - 33s 70ms/step - loss: 7.8730e-06 - accuracy: 1.0000 - val_loss: 7.6392e-06 - val_accuracy: 1.0000\n"
     ]
    },
    {
     "data": {
      "text/plain": [
       "<keras.callbacks.History at 0x210f33d3b50>"
      ]
     },
     "execution_count": 9,
     "metadata": {},
     "output_type": "execute_result"
    }
   ],
   "source": [
    "# Convert to NumPy arrays\n",
    "x_train = np.array(x_train)\n",
    "x_test = np.array(x_test)\n",
    "y_train = np.array(y_train)\n",
    "y_test = np.array(y_test)\n",
    "\n",
    "# Step 5: Model Training\n",
    "embedding_dim = 100  # Define the dimensionality of word embeddings\n",
    "\n",
    "model = Sequential()\n",
    "model.add(Embedding(len(word_index) + 1, embedding_dim, input_length=max_length))\n",
    "model.add(Conv1D(128, 5, activation='relu'))\n",
    "model.add(MaxPooling1D(pool_size=4))\n",
    "model.add(Flatten())\n",
    "model.add(Dense(1, activation='sigmoid'))\n",
    "model.compile(loss='binary_crossentropy', optimizer='adam', metrics=['accuracy'])\n",
    "model.fit(x_train, y_train, validation_data=(x_test, y_test), epochs=10, batch_size=128)"
   ]
  },
  {
   "cell_type": "code",
   "execution_count": 10,
   "id": "8a419826",
   "metadata": {},
   "outputs": [
    {
     "name": "stdout",
     "output_type": "stream",
     "text": [
      "469/469 [==============================] - 4s 8ms/step - loss: 7.6392e-06 - accuracy: 1.0000\n",
      "Test Loss: 7.639212526555639e-06, Test Accuracy: 1.0\n"
     ]
    }
   ],
   "source": [
    "# Step 6: Model Evaluation\n",
    "loss, accuracy = model.evaluate(x_test, y_test)\n",
    "print(f\"Test Loss: {loss}, Test Accuracy: {accuracy}\")"
   ]
  },
  {
   "cell_type": "code",
   "execution_count": 11,
   "id": "4574bfa9",
   "metadata": {},
   "outputs": [
    {
     "name": "stdout",
     "output_type": "stream",
     "text": [
      "469/469 [==============================] - 4s 7ms/step\n",
      "              precision    recall  f1-score   support\n",
      "\n",
      "           0       1.00      1.00      1.00      2465\n",
      "           1       1.00      1.00      1.00     12535\n",
      "\n",
      "    accuracy                           1.00     15000\n",
      "   macro avg       1.00      1.00      1.00     15000\n",
      "weighted avg       1.00      1.00      1.00     15000\n",
      "\n"
     ]
    }
   ],
   "source": [
    "y_pred_prob = model.predict(x_test)  # Predicted probabilities\n",
    "y_pred = (y_pred_prob > 0.5).astype(int)  # Convert probabilities to class labels (0 or 1)\n",
    "report = classification_report(y_test, y_pred)\n",
    "\n",
    "# Print the classification report\n",
    "print(report)"
   ]
  }
 ],
 "metadata": {
  "kernelspec": {
   "display_name": "Python 3 (ipykernel)",
   "language": "python",
   "name": "python3"
  },
  "language_info": {
   "codemirror_mode": {
    "name": "ipython",
    "version": 3
   },
   "file_extension": ".py",
   "mimetype": "text/x-python",
   "name": "python",
   "nbconvert_exporter": "python",
   "pygments_lexer": "ipython3",
   "version": "3.10.9"
  }
 },
 "nbformat": 4,
 "nbformat_minor": 5
}
